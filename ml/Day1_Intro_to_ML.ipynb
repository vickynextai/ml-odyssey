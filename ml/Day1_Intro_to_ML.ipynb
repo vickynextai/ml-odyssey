{
 "cells": [
  {
   "cell_type": "markdown",
   "id": "aac8816f",
   "metadata": {},
   "source": [
    "# 📘 Day 1 – Introduction to Machine Learning"
   ]
  },
  {
   "cell_type": "markdown",
   "id": "4ebcc4de",
   "metadata": {},
   "source": [
    "\n",
    "## 1. What is Machine Learning?  \n",
    "**Definition (simple):**  \n",
    "Machine Learning (ML) is a field of Artificial Intelligence that enables computers to **learn from data** and improve their performance **without being explicitly programmed**.  \n",
    "\n",
    "👉 Example: Instead of writing rules to detect spam emails, we train an ML model on past \"spam\" vs \"not spam\" emails so it learns patterns.  \n"
   ]
  },
  {
   "cell_type": "markdown",
   "id": "bad1409e",
   "metadata": {},
   "source": [
    "\n",
    "## 2. Types of Machine Learning  \n",
    "\n",
    "### 🔹 Supervised Learning  \n",
    "- **Definition:** A type of ML where the training data has **inputs (X) and labeled outputs (Y)**. The model learns a mapping function `f: X → Y`.  \n",
    "- **Goal:** Predict outputs for new, unseen inputs.  \n",
    "- **Examples:**  \n",
    "  - **Regression:** Predict continuous values (e.g., house prices, temperature).  \n",
    "  - **Classification:** Predict discrete labels (e.g., spam vs not spam, disease present vs not present).  \n",
    "\n",
    "👉 Think of it like a **student learning with an answer key**.  \n",
    "\n",
    "---\n",
    "\n",
    "### 🔹 Unsupervised Learning  \n",
    "- **Definition:** A type of ML where the training data has **only inputs (X), no labels**. The model tries to discover hidden structure or groups.  \n",
    "- **Goal:** Find patterns, clusters, or reduce dimensionality.  \n",
    "- **Examples:**  \n",
    "  - **Clustering:** Grouping customers by shopping habits.  \n",
    "  - **Dimensionality Reduction (PCA):** Compressing large datasets into smaller representations.  \n",
    "\n",
    "👉 Think of it like a **student exploring without an answer key**.  \n",
    "\n",
    "---\n",
    "\n",
    "### 🔹 Reinforcement Learning (RL)  \n",
    "- **Definition:** A type of ML where an **agent interacts with an environment**, takes actions, and receives **rewards/penalties**. The agent learns a policy to maximize cumulative reward.  \n",
    "- **Examples:**  \n",
    "  - Self-driving cars learning to drive.  \n",
    "  - AlphaGo (game-playing AI).  \n",
    "  - Robots learning to walk.  \n",
    "\n",
    "👉 Think of it like **learning by trial and error**, improving from feedback.  \n"
   ]
  },
  {
   "cell_type": "markdown",
   "id": "8ebc931e",
   "metadata": {},
   "source": [
    "\n",
    "## 3. Visual Representation  \n",
    "\n",
    "```\n",
    "Supervised Learning   →  Learn from labeled data (X → Y)\n",
    "Unsupervised Learning →  Learn from data without labels (X)\n",
    "Reinforcement Learning → Learn by interacting with environment\n",
    "```\n"
   ]
  },
  {
   "cell_type": "markdown",
   "id": "e5fd84f2",
   "metadata": {},
   "source": [
    "\n",
    "## 4. Real-World Examples  \n",
    "\n",
    "- **Supervised:** Predicting stock prices, diagnosing disease from X-rays.  \n",
    "- **Unsupervised:** Market basket analysis (Amazon/Flipkart recommendations), anomaly detection in banking.  \n",
    "- **Reinforcement:** Self-driving cars, personalized ad recommendations, robotics.  \n"
   ]
  },
  {
   "cell_type": "markdown",
   "id": "a0544459",
   "metadata": {},
   "source": [
    "## 5. Mini Practice"
   ]
  },
  {
   "cell_type": "code",
   "execution_count": 1,
   "id": "8c26fe45",
   "metadata": {},
   "outputs": [
    {
     "name": "stdout",
     "output_type": "stream",
     "text": [
      "Score for 6 hours study: 12.0\n"
     ]
    }
   ],
   "source": [
    "\n",
    "# Example: Simple supervised learning using sklearn\n",
    "\n",
    "from sklearn.linear_model import LinearRegression\n",
    "import numpy as np\n",
    "\n",
    "# Training data\n",
    "X = np.array([[1], [2], [3], [4], [5]])  # Study hours\n",
    "y = np.array([2, 4, 6, 8, 10])          # Exam scores\n",
    "\n",
    "# Model\n",
    "model = LinearRegression()\n",
    "model.fit(X, y)\n",
    "\n",
    "# Prediction\n",
    "print(\"Score for 6 hours study:\", model.predict([[6]])[0])\n"
   ]
  },
  {
   "cell_type": "markdown",
   "id": "7fec4e95",
   "metadata": {},
   "source": [
    "\n",
    "## 6. Day 1 Summary (What you should remember)  \n",
    "- ML is about **learning from data** instead of hard-coded rules.  \n",
    "- **Supervised:** labeled data (regression, classification).  \n",
    "- **Unsupervised:** unlabeled data (clustering, dimensionality reduction).  \n",
    "- **Reinforcement:** learning via interaction and rewards.  \n",
    "- You even ran your **first supervised learning example** today 🚀.  \n",
    "\n",
    "---\n",
    "\n",
    "👉 By the end of Day 1, you should have:  \n",
    "1. A `.ipynb` file with definitions + examples.  \n",
    "2. The sample supervised learning code executed.  \n",
    "3. Notes on key differences between supervised, unsupervised, RL.  \n"
   ]
  }
 ],
 "metadata": {
  "kernelspec": {
   "display_name": "python_ml_venv",
   "language": "python",
   "name": "python3"
  },
  "language_info": {
   "codemirror_mode": {
    "name": "ipython",
    "version": 3
   },
   "file_extension": ".py",
   "mimetype": "text/x-python",
   "name": "python",
   "nbconvert_exporter": "python",
   "pygments_lexer": "ipython3",
   "version": "3.11.1"
  }
 },
 "nbformat": 4,
 "nbformat_minor": 5
}
